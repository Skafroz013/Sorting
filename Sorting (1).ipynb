{
 "cells": [
  {
   "cell_type": "markdown",
   "id": "7a6d8325-1385-4f0b-8ae5-3cb6817a5c02",
   "metadata": {},
   "source": [
    "Problem 1.Given an array of n numbers, give an algorithm which gives the element appearing maximum \n",
    "number of times?"
   ]
  },
  {
   "cell_type": "code",
   "execution_count": 2,
   "id": "26af93eb-799a-49ae-acb7-d972b70e0316",
   "metadata": {},
   "outputs": [
    {
     "name": "stdout",
     "output_type": "stream",
     "text": [
      "3\n"
     ]
    }
   ],
   "source": [
    "def find_max_occurrence(arr):\n",
    "    ele_count = {}\n",
    "    for i in arr:\n",
    "        if i in ele_count:\n",
    "            ele_count[i] += 1\n",
    "        else:\n",
    "            ele_count[i] = 1\n",
    "    max_ele = max(ele_count, key=ele_count.get)\n",
    "    return max_ele\n",
    "print(find_max_occurrence([1, 2, 3, 4, 2, 2, 3, 3, 3, 5, 5, 5, 5]))"
   ]
  },
  {
   "cell_type": "markdown",
   "id": "397115c4-126e-45e2-99a2-2f404b810edd",
   "metadata": {},
   "source": [
    "Problem 2 : We are given a list of n-1 integers and these integers are in the range of 1 to n . There are no \n",
    "duplicates in the list. One of the integers is missing in the list. Give an algorithm to find that element Ex: \n",
    "[1,2,4,6,3,7,8] 5 is the missing num"
   ]
  },
  {
   "cell_type": "code",
   "execution_count": 5,
   "id": "3f48f41f-5b06-4e6f-9049-3c737e4c77a1",
   "metadata": {},
   "outputs": [
    {
     "name": "stdout",
     "output_type": "stream",
     "text": [
      "5\n"
     ]
    }
   ],
   "source": [
    "def find_missing_number(nums):\n",
    "    n = len(nums) + 1  \n",
    "    expected_sum = (n * (n + 1)) // 2\n",
    "    actual_sum = sum(nums)\n",
    "    missing_number = expected_sum - actual_sum\n",
    "    return missing_number\n",
    "print(find_missing_number([1, 2, 4, 6, 3, 7, 8]))"
   ]
  },
  {
   "cell_type": "markdown",
   "id": "04bb7165-4320-46e5-a9ba-173d858db693",
   "metadata": {},
   "source": [
    "Problem 3 : Given an array of n positive numbers. All numbers occurs even number of times except 1 which \n",
    "occurs odd number of times. Find that number in O(n) time and O(1) space. Ex: [1,2,3,2,3,1,3]. 3 is repeats odd \n",
    "times"
   ]
  },
  {
   "cell_type": "code",
   "execution_count": 6,
   "id": "46ee07cb-b28e-4330-8334-6bfccef16264",
   "metadata": {},
   "outputs": [
    {
     "name": "stdout",
     "output_type": "stream",
     "text": [
      "3\n"
     ]
    }
   ],
   "source": [
    "def find_odd_occurrence(arr):\n",
    "    result = 0\n",
    "    for i in arr:\n",
    "        result ^= i\n",
    "    return result\n",
    "print(find_odd_occurrence([1, 2, 3, 2, 3, 1, 3]))"
   ]
  },
  {
   "cell_type": "markdown",
   "id": "e377927b-22bf-4ff1-b216-4970c84fc335",
   "metadata": {},
   "source": [
    "Problem 4 : Given an array of n elements. Find two elements in the array such that their sum is equal to given \n",
    "element K."
   ]
  },
  {
   "cell_type": "code",
   "execution_count": 11,
   "id": "54018f69-4d6f-44b5-bdaa-a937d1ccc7f5",
   "metadata": {},
   "outputs": [
    {
     "name": "stdout",
     "output_type": "stream",
     "text": [
      "(6, 4)\n"
     ]
    }
   ],
   "source": [
    "def find_pair_with_sum(arr, target_sum):\n",
    "    seen_numbers = set()\n",
    "    for num in arr:\n",
    "        complement = target_sum - num\n",
    "        if complement in seen_numbers:\n",
    "            return num, complement\n",
    "        seen_numbers.add(num)\n",
    "    return None\n",
    "numbers = [1, 2, 4, 6, 3, 7, 8]\n",
    "target_sum = 10\n",
    "print(find_pair_with_sum(numbers, target_sum))"
   ]
  },
  {
   "cell_type": "markdown",
   "id": "12325cb4-5df9-462e-8eaa-1eeae24b9385",
   "metadata": {},
   "source": [
    "Problem 5 : Given an array of both positive and negative numbers, find two numbers such that their sum is \n",
    "closest to 0. Ex: [ 1 ,60 ,-10, 70, -80,85]. Ans : -80,85."
   ]
  },
  {
   "cell_type": "code",
   "execution_count": 5,
   "id": "2136632a-a825-4962-a6c3-fbfea52b7e16",
   "metadata": {},
   "outputs": [
    {
     "name": "stdout",
     "output_type": "stream",
     "text": [
      "(-80, 85)\n"
     ]
    }
   ],
   "source": [
    "def closest_pair_to_zero(arr):\n",
    "    arr.sort()\n",
    "    closest_pair = None\n",
    "    closest_sum = float('inf')  # Initialize with positive infinity\n",
    "    left, right = 0, len(arr) - 1\n",
    "    while left < right:\n",
    "        current_sum = arr[left] + arr[right]\n",
    "        if abs(current_sum) < abs(closest_sum):\n",
    "            closest_sum = current_sum\n",
    "            closest_pair = (arr[left], arr[right])\n",
    "        if current_sum < 0:\n",
    "            left += 1\n",
    "        elif current_sum > 0:\n",
    "            right -= 1\n",
    "        else:\n",
    "            return (arr[left], arr[right])\n",
    "    return closest_pair\n",
    "print(closest_pair_to_zero([1, 60, -10, 70, -80, 85]))"
   ]
  },
  {
   "cell_type": "code",
   "execution_count": 8,
   "id": "2a6b9339-0c38-48e7-beca-44c2268c1f9e",
   "metadata": {},
   "outputs": [],
   "source": [
    "#Problem 6 : Given an array of n elements . Find three elements such that their sum is equal to the given \n",
    "#number"
   ]
  },
  {
   "cell_type": "code",
   "execution_count": 13,
   "id": "59061ad3-fbdf-427c-96d1-e4c39953519a",
   "metadata": {},
   "outputs": [
    {
     "name": "stdout",
     "output_type": "stream",
     "text": [
      "Three elements with sum 20: (3, 8, 9)\n"
     ]
    }
   ],
   "source": [
    "def find_three_elements(arr, target_sum):\n",
    "    arr.sort()\n",
    "    n = len(arr)\n",
    "\n",
    "    for i in range(n - 2):\n",
    "        left, right = i + 1, n - 1\n",
    "\n",
    "        while left < right:\n",
    "            current_sum = arr[i] + arr[left] + arr[right]\n",
    "\n",
    "            if current_sum == target_sum:\n",
    "                return arr[i], arr[left], arr[right]\n",
    "            elif current_sum < target_sum:\n",
    "                left += 1\n",
    "            else:\n",
    "                right -= 1\n",
    "\n",
    "    return None\n",
    "arr = [1, 4, 2, 7, 3, 9, 8]\n",
    "target_sum = 20\n",
    "result = find_three_elements(arr, target_sum)\n",
    "\n",
    "if result:\n",
    "    print(f\"Three elements with sum {target_sum}: {result}\")\n",
    "else:\n",
    "    print(\"No such elements found.\")\n"
   ]
  },
  {
   "cell_type": "code",
   "execution_count": null,
   "id": "26e5ac27-58f7-4675-9182-0b7bb3f62928",
   "metadata": {},
   "outputs": [],
   "source": [
    "Problem 7 : Given an array of n elements . Find three elements i, j, k in the array such that\n",
    "\n",
    "i * i + j * j = k*k"
   ]
  },
  {
   "cell_type": "code",
   "execution_count": 17,
   "id": "571cf9fa-ac0b-4944-9cda-fcea9a7312bf",
   "metadata": {},
   "outputs": [
    {
     "name": "stdout",
     "output_type": "stream",
     "text": [
      "Pythagorean triplet: (3, 4, 5)\n"
     ]
    }
   ],
   "source": [
    "def find_pythagorean_triplet(arr):\n",
    "    n = len(arr)\n",
    "    \n",
    "    for i in range(n -2):\n",
    "        for j in range(i + 1, n-1):\n",
    "            for k in range(j+1,n):\n",
    "                if arr[i] ** 2 + arr[j] ** 2==arr[k]** 2:\n",
    "                    return arr[i], arr[j], arr[k]\n",
    "    return None\n",
    "arr = [3,1,4,6,5]\n",
    "result = find_pythagorean_triplet(arr)\n",
    "\n",
    "if result:\n",
    "    print(f\"Pythagorean triplet: {result}\")\n",
    "else:\n",
    "    print(\"No such triplet found.\")"
   ]
  },
  {
   "cell_type": "code",
   "execution_count": null,
   "id": "af52f18c-2c49-4a68-a47e-425a479368da",
   "metadata": {},
   "outputs": [],
   "source": [
    "Problem 8 : An element is a majority if it appears more than n/2 times. Give an algorithm takes an array of n \n",
    "element as argument and identifies a majority (if it exists)"
   ]
  },
  {
   "cell_type": "code",
   "execution_count": 19,
   "id": "dbfc00df-c9a4-4f12-a540-ee449ee539b7",
   "metadata": {},
   "outputs": [
    {
     "name": "stdout",
     "output_type": "stream",
     "text": [
      "The majority element is: 4\n"
     ]
    }
   ],
   "source": [
    "def find_majority_element(arr):\n",
    "    candidate = None\n",
    "    count = 0\n",
    "\n",
    "    for num in arr:\n",
    "        if count == 0:\n",
    "            candidate = num\n",
    "            count = 1\n",
    "        elif candidate == num:\n",
    "            count += 1\n",
    "        else:\n",
    "            count -= 1\n",
    "\n",
    "    count = 0\n",
    "    for num in arr:\n",
    "        if num == candidate:\n",
    "            count += 1\n",
    "\n",
    "    if count > len(arr) // 2:\n",
    "        return candidate\n",
    "    else:\n",
    "        return None\n",
    "\n",
    "\n",
    "arr = [3, 3, 4, 2, 4, 4, 2, 4, 4]\n",
    "result = find_majority_element(arr)\n",
    "\n",
    "if result is not None:\n",
    "    print(f\"The majority element is: {result}\")\n",
    "else:\n",
    "    print(\"No majority element found.\")\n"
   ]
  },
  {
   "cell_type": "code",
   "execution_count": null,
   "id": "006af19c-5423-49b5-800a-54911dbf91df",
   "metadata": {},
   "outputs": [],
   "source": [
    "Probelm:9 : Given n × n matrix, and in each row all 1’s are followed by 0’s. Find the row with the maximum \n",
    "number of 0’s"
   ]
  },
  {
   "cell_type": "code",
   "execution_count": 30,
   "id": "86d648f5-4815-4c99-bb5c-2adfb4abc23a",
   "metadata": {},
   "outputs": [
    {
     "name": "stdout",
     "output_type": "stream",
     "text": [
      "The row with the maximum number of 0's is: 2\n"
     ]
    }
   ],
   "source": [
    "def find_row_with_max_zeros(matrix):\n",
    "    max_zeros_row_index = -1\n",
    "    max_zeros_count = -1\n",
    "\n",
    "    for i, row in enumerate(matrix):\n",
    "        zeros_count = row.count(0)\n",
    "\n",
    "        if zeros_count > max_zeros_count:\n",
    "            max_zeros_count = zeros_count\n",
    "            max_zeros_row_index = i\n",
    "\n",
    "    return max_zeros_row_index\n",
    "\n",
    "# Example usage:\n",
    "matrix = [\n",
    "    [1, 1, 1, 0, 0],\n",
    "    [1, 1, 0, 0, 0],\n",
    "    [1, 0, 0, 0, 0],\n",
    "    [1, 1, 1, 1, 0],\n",
    "    [1, 1, 1, 0, 0]\n",
    "]\n",
    "\n",
    "result = find_row_with_max_zeros(matrix)\n",
    "\n",
    "if result != -1:\n",
    "    print(f\"The row with the maximum number of 0's is: {result}\")\n",
    "else:\n",
    "    print(\"No such row found.\")\n"
   ]
  },
  {
   "cell_type": "code",
   "execution_count": null,
   "id": "b403b80f-6e59-41d6-8dde-b7385769fa7f",
   "metadata": {},
   "outputs": [],
   "source": [
    "Problem 10 : Sort an array of 0’s, 1’s and 2’s [or R’s, G’s and B’s]: Given an array A[] consisting of 0’s, 1’s and \n",
    "2’s, give an algorithm for sorting A[].The algorithm should put all 0’s first, then all 1’s and finally all 2’s at the \n",
    "end. Example Input = {0,1,1,0,1,2,1,2,0,0,0,1}, Output = {0,0,0,0,0,1,1,1,1,1,2,2}"
   ]
  },
  {
   "cell_type": "code",
   "execution_count": null,
   "id": "8d3b4c57-af6b-42a5-a9d8-33ad961a2af0",
   "metadata": {},
   "outputs": [],
   "source": [
    "def sort_colors(arr):\n",
    "    low, mid, high = 0,0 len(arr) - 1\n",
    "    \n",
    "    whole mid <= high:\n",
    "        if arr[mid] == 0:\n",
    "            arr[low], arr[mid] = arr[mid],arr[low]\n",
    "            low +=1\n",
    "            mid +=1\n",
    "        elif arr[mid] == 1:\n",
    "            mid +=1\n",
    "        else:\n",
    "            arr[mid], arr[high] = arr[high],arr[mid]\n",
    "            high -=1\n",
    "            \n",
    "arr = [0.1"
   ]
  }
 ],
 "metadata": {
  "kernelspec": {
   "display_name": "Python 3 (ipykernel)",
   "language": "python",
   "name": "python3"
  },
  "language_info": {
   "codemirror_mode": {
    "name": "ipython",
    "version": 3
   },
   "file_extension": ".py",
   "mimetype": "text/x-python",
   "name": "python",
   "nbconvert_exporter": "python",
   "pygments_lexer": "ipython3",
   "version": "3.10.8"
  }
 },
 "nbformat": 4,
 "nbformat_minor": 5
}
